{
 "cells": [
  {
   "cell_type": "code",
   "execution_count": 1,
   "metadata": {},
   "outputs": [
    {
     "name": "stdout",
     "output_type": "stream",
     "text": [
      "Hello There\n",
      "Hello There\n",
      "Hello There\n",
      "Hello There\n"
     ]
    }
   ],
   "source": [
    "def p_times(statement, num):\n",
    "    for i in range(num):\n",
    "        print(statement)\n",
    "        \n",
    "p_times(\"Hello There\", 4)\n"
   ]
  },
  {
   "cell_type": "code",
   "execution_count": 2,
   "metadata": {},
   "outputs": [
    {
     "name": "stdout",
     "output_type": "stream",
     "text": [
      "{'D': 1, 'o': 2, 'm': 1, 'i': 1, 'n': 1, 'g': 1}\n"
     ]
    }
   ],
   "source": [
    "def letter_count(string):\n",
    "  dd = {}\n",
    "  for letter in string:\n",
    "    if letter in dd:\n",
    "      dd[letter] += 1\n",
    "    else:\n",
    "      dd[letter] = 1\n",
    "  print(dd)\n",
    "\n",
    "letter_count(\"Domingo\")\n"
   ]
  },
  {
   "cell_type": "code",
   "execution_count": 3,
   "metadata": {},
   "outputs": [
    {
     "name": "stdout",
     "output_type": "stream",
     "text": [
      "Brian has a phone number of 333-333-3333\n",
      "Lenny has a phone number of 444-444-4444\n",
      "Daniel has a phone number of 777-777-7777\n"
     ]
    }
   ],
   "source": [
    "contacts = {\n",
    "  'Brian': '333-333-3333',\n",
    "  'Lenny': '444-444-4444',\n",
    "  'Daniel': '777-777-7777'\n",
    "}\n",
    "\n",
    "def print_contacts(contact):\n",
    "  for x, y in contacts.items():\n",
    "    print(f\"{x} has a phone number of\", f\"{y}\")\n",
    "\n",
    "print_contacts(contacts)"
   ]
  },
  {
   "cell_type": "code",
   "execution_count": 4,
   "metadata": {},
   "outputs": [
    {
     "name": "stdout",
     "output_type": "stream",
     "text": [
      "[5, 10, 15, 20]\n"
     ]
    }
   ],
   "source": [
    "\n",
    "def multiply_by(arr, num):\n",
    "    newList = []\n",
    "\n",
    "    for numbers in arr:   \n",
    "        newList.append(numbers * num) \n",
    "    print(newList)\n",
    "\n",
    "multiply_by([1,2,3,4], 5)"
   ]
  },
  {
   "cell_type": "code",
   "execution_count": 5,
   "metadata": {},
   "outputs": [
    {
     "name": "stdout",
     "output_type": "stream",
     "text": [
      "120\n"
     ]
    }
   ],
   "source": [
    "import math\n",
    "\n",
    "def factorial(n):\n",
    "    return math.factorial(n) \n",
    "\n",
    "print(factorial(5))"
   ]
  },
  {
   "cell_type": "code",
   "execution_count": null,
   "metadata": {},
   "outputs": [],
   "source": []
  }
 ],
 "metadata": {
  "kernelspec": {
   "display_name": "Python 3",
   "language": "python",
   "name": "python3"
  },
  "language_info": {
   "codemirror_mode": {
    "name": "ipython",
    "version": 3
   },
   "file_extension": ".py",
   "mimetype": "text/x-python",
   "name": "python",
   "nbconvert_exporter": "python",
   "pygments_lexer": "ipython3",
   "version": "3.8.5"
  }
 },
 "nbformat": 4,
 "nbformat_minor": 4
}
